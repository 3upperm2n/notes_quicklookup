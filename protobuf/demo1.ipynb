{
 "cells": [
  {
   "cell_type": "code",
   "execution_count": 1,
   "metadata": {
    "collapsed": true
   },
   "outputs": [],
   "source": [
    "import os\n",
    "\n",
    "# First compile the Datum, protobuf so that we can load using protobuf\n",
    "# This will create datum_pb2.py\n",
    "os.system('protoc -I={0} --python_out={1} {0}p2.proto'.format(\"./\", \"./\"))\n",
    "\n",
    "import p2_pb2"
   ]
  },
  {
   "cell_type": "code",
   "execution_count": 3,
   "metadata": {
    "collapsed": false
   },
   "outputs": [],
   "source": [
    "# get the message from the pbuf\n",
    "person = p2_pb2.Person()\n",
    "\n",
    "# update\n",
    "person.id = 1234\n",
    "person.name = \"John Doe\"\n",
    "person.email = \"jdoe@example.com\"\n",
    "\n",
    "phone = person.phones.add()\n",
    "phone.number = \"555-4321\"\n",
    "phone.type = p2_pb2.Person.HOME"
   ]
  },
  {
   "cell_type": "code",
   "execution_count": null,
   "metadata": {
    "collapsed": true
   },
   "outputs": [],
   "source": []
  }
 ],
 "metadata": {
  "kernelspec": {
   "display_name": "Python [conda root]",
   "language": "python",
   "name": "conda-root-py"
  },
  "language_info": {
   "codemirror_mode": {
    "name": "ipython",
    "version": 2
   },
   "file_extension": ".py",
   "mimetype": "text/x-python",
   "name": "python",
   "nbconvert_exporter": "python",
   "pygments_lexer": "ipython2",
   "version": "2.7.13"
  }
 },
 "nbformat": 4,
 "nbformat_minor": 2
}
